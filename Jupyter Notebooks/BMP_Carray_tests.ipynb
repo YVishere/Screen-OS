{
 "cells": [
  {
   "cell_type": "code",
   "execution_count": 1,
   "metadata": {},
   "outputs": [],
   "source": [
    "from PIL import Image\n",
    "from PIL import GifImagePlugin  "
   ]
  },
  {
   "cell_type": "code",
   "execution_count": 2,
   "metadata": {},
   "outputs": [],
   "source": [
    "imageObj = Image.open(\"disint.gif\")"
   ]
  },
  {
   "cell_type": "code",
   "execution_count": 3,
   "metadata": {},
   "outputs": [
    {
     "data": {
      "text/plain": [
       "True"
      ]
     },
     "execution_count": 3,
     "metadata": {},
     "output_type": "execute_result"
    }
   ],
   "source": [
    "imageObj.is_animated"
   ]
  },
  {
   "cell_type": "code",
   "execution_count": 4,
   "metadata": {},
   "outputs": [
    {
     "data": {
      "text/plain": [
       "14"
      ]
     },
     "execution_count": 4,
     "metadata": {},
     "output_type": "execute_result"
    }
   ],
   "source": [
    "imageObj.n_frames"
   ]
  },
  {
   "cell_type": "markdown",
   "metadata": {},
   "source": [
    "PIP package used is-- pip install Wand ImageMagick  \n",
    "install MagickWand from https://imagemagick.org/script/download.php#windows"
   ]
  },
  {
   "cell_type": "code",
   "execution_count": 5,
   "metadata": {},
   "outputs": [],
   "source": [
    "from wand.image import Image\n",
    "with Image(filename=\"disint.gif\") as img:\n",
    "    img.coalesce()\n",
    "    # img.save(filename=\"frame%02d.bmp\")"
   ]
  },
  {
   "cell_type": "code",
   "execution_count": null,
   "metadata": {},
   "outputs": [],
   "source": [
    "import convertIMGtoCarray"
   ]
  },
  {
   "cell_type": "code",
   "execution_count": null,
   "metadata": {},
   "outputs": [
    {
     "name": "stdout",
     "output_type": "stream",
     "text": [
      "Processing video with 14 frames, dimensions: 220x211\n",
      "Processed frame 1/14\n",
      "Processed frame 2/14\n",
      "Processed frame 3/14\n",
      "Processed frame 4/14\n",
      "Processed frame 5/14\n",
      "Processed frame 6/14\n",
      "Processed frame 7/14\n",
      "Processed frame 8/14\n",
      "Processed frame 9/14\n",
      "Processed frame 10/14\n",
      "Processed frame 11/14\n",
      "Processed frame 12/14\n",
      "Processed frame 13/14\n",
      "Processed frame 14/14\n",
      "Saved raw array data to animation_array.txt\n",
      "Successfully created header file: animation.h\n",
      "Total size: 649880 bytes\n"
     ]
    }
   ],
   "source": [
    "convertIMGtoCarray.convert_video_to_rgb332_frames(\"disint.gif\", \"animation\")"
   ]
  },
  {
   "cell_type": "code",
   "execution_count": null,
   "metadata": {},
   "outputs": [],
   "source": [
    "convertIMGtoCarray.convert_video_to_rgb332_bin_frames(\"dinit.mp4\", \"output_frames\", max_frames=10, rotate_k=0) #rotate = 1 because we tft rotated it"
   ]
  },
  {
   "cell_type": "code",
   "execution_count": 4,
   "metadata": {},
   "outputs": [],
   "source": [
    "import numpy as np\n",
    "import matplotlib.pyplot as plt\n",
    "import os\n",
    "from glob import glob\n",
    "from IPython.display import display, clear_output\n",
    "import time\n",
    "\n",
    "# Set the folder and frame dimensions\n",
    "folder = \"output_frames\"  # or \"output_frame\"\n",
    "width = 128               # set according to info.txt\n",
    "height = 160 "
   ]
  },
  {
   "cell_type": "code",
   "execution_count": 5,
   "metadata": {},
   "outputs": [
    {
     "data": {
      "text/plain": [
       "[]"
      ]
     },
     "execution_count": 5,
     "metadata": {},
     "output_type": "execute_result"
    }
   ],
   "source": [
    "bin_files = sorted(glob(os.path.join(folder, \"frame*.bin\")), key=lambda x: int(os.path.splitext(os.path.basename(x))[0][5:]))\n",
    "bin_files"
   ]
  },
  {
   "cell_type": "code",
   "execution_count": null,
   "metadata": {},
   "outputs": [],
   "source": []
  }
 ],
 "metadata": {
  "kernelspec": {
   "display_name": "Python 3",
   "language": "python",
   "name": "python3"
  },
  "language_info": {
   "codemirror_mode": {
    "name": "ipython",
    "version": 3
   },
   "file_extension": ".py",
   "mimetype": "text/x-python",
   "name": "python",
   "nbconvert_exporter": "python",
   "pygments_lexer": "ipython3",
   "version": "3.13.5"
  }
 },
 "nbformat": 4,
 "nbformat_minor": 2
}
